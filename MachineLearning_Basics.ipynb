{
  "nbformat": 4,
  "nbformat_minor": 0,
  "metadata": {
    "colab": {
      "provenance": [],
      "authorship_tag": "ABX9TyMP6ReMcOD0w3SsxNCUvc0T",
      "include_colab_link": true
    },
    "kernelspec": {
      "name": "python3",
      "display_name": "Python 3"
    },
    "language_info": {
      "name": "python"
    }
  },
  "cells": [
    {
      "cell_type": "markdown",
      "metadata": {
        "id": "view-in-github",
        "colab_type": "text"
      },
      "source": [
        "<a href=\"https://colab.research.google.com/github/Kashaf-Zia06/Python-AI-Bootcamp/blob/main/MachineLearning_Basics.ipynb\" target=\"_parent\"><img src=\"https://colab.research.google.com/assets/colab-badge.svg\" alt=\"Open In Colab\"/></a>"
      ]
    },
    {
      "cell_type": "markdown",
      "source": [
        "**ENCODING**"
      ],
      "metadata": {
        "id": "iBUM11n4C7Kk"
      }
    },
    {
      "cell_type": "code",
      "execution_count": 8,
      "metadata": {
        "id": "2GPmNfWdMD60",
        "colab": {
          "base_uri": "https://localhost:8080/"
        },
        "outputId": "14ac51ed-0685-46b2-fab3-5f4baedc7f5e"
      },
      "outputs": [
        {
          "output_type": "stream",
          "name": "stdout",
          "text": [
            "Original data \n",
            "      size clothes\n",
            "0   small   shirt\n",
            "1   large    pant\n",
            "2  medium   frock\n"
          ]
        }
      ],
      "source": [
        "import pandas as pd\n",
        "from sklearn.preprocessing import LabelEncoder\n",
        "\n",
        "#Dummy dataset\n",
        "df=pd.DataFrame({\n",
        "    \"size\":[\"small\",\"large\",\"medium\"],\n",
        "    \"clothes\":[\"shirt\",\"pant\",\"frock\"]  #all arrays in dataframe should have same size otherwise error arises\n",
        "})\n",
        "\n",
        "print(\"Original data \\n\",df)"
      ]
    },
    {
      "cell_type": "code",
      "source": [
        "le=LabelEncoder()\n",
        "df[\"size_label\"]=le.fit_transform(df[\"size\"])\n",
        "print(\"AFTER ENCODING \\n\",df)"
      ],
      "metadata": {
        "colab": {
          "base_uri": "https://localhost:8080/"
        },
        "id": "KCAttQkjEOcA",
        "outputId": "450c3c60-d318-4f07-b093-f5bff8158cef"
      },
      "execution_count": 9,
      "outputs": [
        {
          "output_type": "stream",
          "name": "stdout",
          "text": [
            "AFTER ENCODING \n",
            "      size clothes  size_label\n",
            "0   small   shirt           2\n",
            "1   large    pant           0\n",
            "2  medium   frock           1\n"
          ]
        }
      ]
    },
    {
      "cell_type": "markdown",
      "source": [
        "**One hot encoding**"
      ],
      "metadata": {
        "id": "aFwC_En3E8NT"
      }
    },
    {
      "cell_type": "code",
      "source": [
        "df=pd.DataFrame({\n",
        "    \"color\":[\"red\",\"blue\",\"green\"]\n",
        "})\n",
        "print(\"Before one hot encoding\\n\",df)"
      ],
      "metadata": {
        "colab": {
          "base_uri": "https://localhost:8080/"
        },
        "id": "0u-m9YeEE7qz",
        "outputId": "a609b60a-94b8-4f32-e87a-e9069944adbf"
      },
      "execution_count": 10,
      "outputs": [
        {
          "output_type": "stream",
          "name": "stdout",
          "text": [
            "Before one hot encoding\n",
            "    color\n",
            "0    red\n",
            "1   blue\n",
            "2  green\n"
          ]
        }
      ]
    },
    {
      "cell_type": "code",
      "source": [
        "df_onehot=pd.get_dummies(df,columns=[\"color\"]) #get_dummies is used for hot encoding\n",
        "\n",
        "print(\"After one hot encoding\\n\",df_onehot)"
      ],
      "metadata": {
        "colab": {
          "base_uri": "https://localhost:8080/"
        },
        "id": "k86G5G-hFbiF",
        "outputId": "51b67a24-678c-4c39-f4d0-2ea751506cb5"
      },
      "execution_count": 11,
      "outputs": [
        {
          "output_type": "stream",
          "name": "stdout",
          "text": [
            "After one hot encoding\n",
            "    color_blue  color_green  color_red\n",
            "0       False        False       True\n",
            "1        True        False      False\n",
            "2       False         True      False\n"
          ]
        }
      ]
    },
    {
      "cell_type": "markdown",
      "source": [
        "**Feature Scaling**"
      ],
      "metadata": {
        "id": "vV9Np4ZXMF6Z"
      }
    },
    {
      "cell_type": "code",
      "source": [
        "from sklearn.preprocessing import MinMaxScaler\n",
        "\n",
        "data={\n",
        "    \"ages\":[20,40,50],\n",
        "    \"salaries\":[10000,15000,20000]\n",
        "}\n",
        "\n",
        "df=pd.DataFrame(data)\n",
        "print(\"Before feature scaling normalization\\n\",df)\n"
      ],
      "metadata": {
        "colab": {
          "base_uri": "https://localhost:8080/"
        },
        "id": "z_9DWZrKFDEK",
        "outputId": "12adfc56-dd10-4022-cf22-f7f216375806"
      },
      "execution_count": 12,
      "outputs": [
        {
          "output_type": "stream",
          "name": "stdout",
          "text": [
            "Before feature scaling normalization\n",
            "    ages  salaries\n",
            "0    20     10000\n",
            "1    40     15000\n",
            "2    50     20000\n"
          ]
        }
      ]
    },
    {
      "cell_type": "code",
      "source": [
        "scaler=MinMaxScaler()\n",
        "df_scaled=scaler.fit_transform(df)\n",
        "df_scaled=pd.DataFrame(df_scaled,columns=df.columns) #we have to give column name becuase it returns numpy array with column name\n",
        "print(\"After scaling:\\n\",df_scaled)"
      ],
      "metadata": {
        "colab": {
          "base_uri": "https://localhost:8080/"
        },
        "id": "DdebprGpMOYF",
        "outputId": "67726cbc-61a9-48b4-e9e3-eb4d69995096"
      },
      "execution_count": 19,
      "outputs": [
        {
          "output_type": "stream",
          "name": "stdout",
          "text": [
            "After scaling:\n",
            "        ages  salaries\n",
            "0  0.000000       0.0\n",
            "1  0.666667       0.5\n",
            "2  1.000000       1.0\n"
          ]
        }
      ]
    },
    {
      "cell_type": "code",
      "source": [
        "# 📌 Standardization vs Normalization\n",
        "\n",
        "# 👉 Standardization:\n",
        "# Standardization transforms data to have:\n",
        "#   - Mean = 0\n",
        "#   - Standard Deviation = 1\n",
        "# It is useful when data follows a Gaussian (normal) distribution.\n",
        "# Formula: z = (x - mean) / standard_deviation\n",
        "\n",
        "from sklearn.preprocessing import StandardScaler\n",
        "import numpy as np\n",
        "\n",
        "data = np.array([[10], [20], [30], [40], [50]])\n",
        "\n",
        "scaler = StandardScaler()\n",
        "standardized_data = scaler.fit_transform(data)\n",
        "\n",
        "print(\"Original Data:\\n\", data.ravel())\n",
        "print(\"Standardized Data:\\n\", standardized_data.ravel())\n",
        "\n",
        "\n",
        "# 👉 Normalization:\n",
        "# Normalization rescales data to a fixed range (usually [0,1]).\n",
        "# It is useful when we want all features on the same scale.\n",
        "# Formula: x' = (x - min) / (max - min)\n",
        "\n",
        "from sklearn.preprocessing import MinMaxScaler\n",
        "\n",
        "normalizer = MinMaxScaler()\n",
        "normalized_data = normalizer.fit_transform(data)\n",
        "\n",
        "print(\"\\nOriginal Data:\\n\", data.ravel())\n",
        "print(\"Normalized Data:\\n\", normalized_data.ravel())\n"
      ],
      "metadata": {
        "colab": {
          "base_uri": "https://localhost:8080/"
        },
        "id": "QB5p_VNAUl1L",
        "outputId": "6a23c9a9-22fe-4a1f-e872-9a8248461f6a"
      },
      "execution_count": 22,
      "outputs": [
        {
          "output_type": "stream",
          "name": "stdout",
          "text": [
            "Original Data:\n",
            " [10 20 30 40 50]\n",
            "Standardized Data:\n",
            " [-1.41421356 -0.70710678  0.          0.70710678  1.41421356]\n",
            "\n",
            "Original Data:\n",
            " [10 20 30 40 50]\n",
            "Normalized Data:\n",
            " [0.   0.25 0.5  0.75 1.  ]\n"
          ]
        }
      ]
    },
    {
      "cell_type": "markdown",
      "source": [],
      "metadata": {
        "id": "cFK-QTqGUk6x"
      }
    },
    {
      "cell_type": "code",
      "source": [
        "from sklearn.preprocessing import StandardScaler\n",
        "\n",
        "sample={\n",
        "    \"marks\":[4.5,15,6.3],\n",
        "    \"scores\":[4.5,15,6.3]\n",
        "}\n",
        "\n",
        "df=pd.DataFrame(sample)\n",
        "print(\"Before scaling\\n\",df)\n",
        "\n",
        "standard=StandardScaler()\n",
        "\n",
        "df_standard=pd.DataFrame(standard.fit_transform(df),columns=df.columns)\n",
        "\n",
        "print(\"After standardization\\n\",df_standard)"
      ],
      "metadata": {
        "colab": {
          "base_uri": "https://localhost:8080/"
        },
        "id": "g6XnDgiHSvYb",
        "outputId": "b95bcdc4-fb9e-45ae-e31f-f74335a0378e"
      },
      "execution_count": 21,
      "outputs": [
        {
          "output_type": "stream",
          "name": "stdout",
          "text": [
            "Before scaling\n",
            "    marks  scores\n",
            "0    4.5     4.5\n",
            "1   15.0    15.0\n",
            "2    6.3     6.3\n",
            "After standardization\n",
            "       marks    scores\n",
            "0 -0.894268 -0.894268\n",
            "1  1.395930  1.395930\n",
            "2 -0.501662 -0.501662\n"
          ]
        }
      ]
    }
  ]
}