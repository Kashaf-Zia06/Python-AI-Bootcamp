{
  "nbformat": 4,
  "nbformat_minor": 0,
  "metadata": {
    "colab": {
      "provenance": [],
      "include_colab_link": true
    },
    "kernelspec": {
      "name": "python3",
      "display_name": "Python 3"
    },
    "language_info": {
      "name": "python"
    }
  },
  "cells": [
    {
      "cell_type": "markdown",
      "metadata": {
        "id": "view-in-github",
        "colab_type": "text"
      },
      "source": [
        "<a href=\"https://colab.research.google.com/github/Kashaf-Zia06/Python-AI-Bootcamp/blob/main/Assignment_01_Kashaf_Zia.ipynb\" target=\"_parent\"><img src=\"https://colab.research.google.com/assets/colab-badge.svg\" alt=\"Open In Colab\"/></a>"
      ]
    },
    {
      "cell_type": "markdown",
      "source": [
        "            **ASSIGNMENT#01**\n",
        "              "
      ],
      "metadata": {
        "id": "5I9G6v07Uv2o"
      }
    },
    {
      "cell_type": "markdown",
      "source": [
        "1. Variables\n",
        "● Create a variable `name` to store your name and `age` to store your age. Print them in a\n",
        "sentence.\n",
        "● Swap the values of two variables `x` and `y` without using a third variable."
      ],
      "metadata": {
        "id": "OhP4CNJREKry"
      }
    },
    {
      "cell_type": "code",
      "source": [
        "name=\"Kashaf Zia\"\n",
        "age=19\n",
        "print(f\"My name is {name} and age is {age} \")"
      ],
      "metadata": {
        "colab": {
          "base_uri": "https://localhost:8080/"
        },
        "id": "AvFc3U84EMz-",
        "outputId": "c45aa3a1-6336-492b-da8b-fe78f41a01d9"
      },
      "execution_count": null,
      "outputs": [
        {
          "output_type": "stream",
          "name": "stdout",
          "text": [
            "My name is Kashaf Zia and age is 19 \n"
          ]
        }
      ]
    },
    {
      "cell_type": "code",
      "source": [
        "x=5\n",
        "y=6\n",
        "\n",
        "print (\"Before swapping value of x: \",x)\n",
        "print(\"Before swapping value of y:\" ,y)\n",
        "x=x+y\n",
        "y=x-y\n",
        "x=x-y\n",
        "print(\"\\n\")\n",
        "print(\"After swapping value of x:\",x, \"\\nAfter swapping value of y:\",y)"
      ],
      "metadata": {
        "colab": {
          "base_uri": "https://localhost:8080/"
        },
        "id": "64eJpOriEaEK",
        "outputId": "a5ed75ae-2daf-4e1c-c02f-56f6d6ae66b3"
      },
      "execution_count": null,
      "outputs": [
        {
          "output_type": "stream",
          "name": "stdout",
          "text": [
            "Before swapping value of x:  5\n",
            "Before swapping value of y: 6\n",
            "\n",
            "\n",
            "After swapping value of x: 6 \n",
            "After swapping value of y: 5\n"
          ]
        }
      ]
    },
    {
      "cell_type": "markdown",
      "source": [
        "2. Operators\n",
        "● Write a program that takes two numbers from the user and prints their sum, difference, product,\n",
        "and quotient.\n",
        "● Check if a number entered by the user is even or odd using the modulo (%) operator"
      ],
      "metadata": {
        "id": "dQvSgwJ1FKDW"
      }
    },
    {
      "cell_type": "code",
      "source": [
        "a=int(input(\"Enter first number: \"))\n",
        "b=int(input(\"Enter second number: \"))\n",
        "\n",
        "def add():\n",
        "  print(\"Sum of two numbers is: \", a+b)\n",
        "\n",
        "def sub():\n",
        "  print(\"Difference of two numbers is: \", a-b)\n",
        "\n",
        "def product():\n",
        "  print(\"Product of two numbers is: \", a*b)\n",
        "\n",
        "def divide():\n",
        "  print(\"Quotient of two numbers is: \", a/b)\n",
        "\n",
        "\n",
        "add()\n",
        "sub()\n",
        "product()\n",
        "divide()\n"
      ],
      "metadata": {
        "colab": {
          "base_uri": "https://localhost:8080/"
        },
        "id": "66JpHbSRFKnt",
        "outputId": "1370849c-8532-465b-f1c6-abae50a4019f"
      },
      "execution_count": null,
      "outputs": [
        {
          "output_type": "stream",
          "name": "stdout",
          "text": [
            "Enter first number: 2\n",
            "Enter second number: 2\n",
            "Sum of two numbers is:  4\n",
            "Difference of two numbers is:  0\n",
            "Product of two numbers is:  4\n",
            "Quotient of two numbers is:  1.0\n"
          ]
        }
      ]
    },
    {
      "cell_type": "code",
      "source": [
        "num=int(input(\"Enter any number: \"))\n",
        "\n",
        "if(num%2==0):\n",
        "  print(\"Number is even\")\n",
        "else:\n",
        "  print(\"Number is odd\")"
      ],
      "metadata": {
        "colab": {
          "base_uri": "https://localhost:8080/"
        },
        "id": "ACUnRg7zGfHI",
        "outputId": "b76559bd-a538-47ba-befa-4c00e9949238"
      },
      "execution_count": null,
      "outputs": [
        {
          "output_type": "stream",
          "name": "stdout",
          "text": [
            "Enter any number: 5\n",
            "Number is odd\n"
          ]
        }
      ]
    },
    {
      "cell_type": "markdown",
      "source": [
        "Write a program to check if a person is eligible to vote (age ≥ 18).\n",
        "● Ask the user for a number and check: - If it’s positive - If it’s negative - If it’s zero"
      ],
      "metadata": {
        "id": "KSWzf1ebG12Y"
      }
    },
    {
      "cell_type": "code",
      "source": [
        "age=int(\"Enter your age: \")\n",
        "if(age>=18):\n",
        "  print(\"You are eligible to vote\")\n",
        "else:\n",
        "  print(\"You are not eligible to vote\")"
      ],
      "metadata": {
        "id": "oFy6yrLFG7A2"
      },
      "execution_count": null,
      "outputs": []
    },
    {
      "cell_type": "code",
      "source": [
        "num=int(input(\"Enter any number:\"))\n",
        "\n",
        "if(num==0):\n",
        "  print(\"Number is zero\")\n",
        "elif (num>=0):\n",
        "  print(\"Number is positive\")\n",
        "else: #if above both condition fails that means number is zero\n",
        "  print(\"Number is negative\")\n"
      ],
      "metadata": {
        "colab": {
          "base_uri": "https://localhost:8080/"
        },
        "id": "851bHMRdHC2u",
        "outputId": "80296225-71c2-4456-e11e-8c6be1fcc9af"
      },
      "execution_count": null,
      "outputs": [
        {
          "output_type": "stream",
          "name": "stdout",
          "text": [
            "Enter any number:-1\n",
            "Number is negative\n"
          ]
        }
      ]
    },
    {
      "cell_type": "markdown",
      "source": [
        "Print numbers from 1 to 10 using a `for` loop.\n",
        "● Print the multiplication table of any number entered by the user.\n",
        "● Write a program that sums all numbers from 1 to n (user input) using a loop."
      ],
      "metadata": {
        "id": "BtkC6b8DHzqp"
      }
    },
    {
      "cell_type": "code",
      "source": [
        "for x in range(1,11):\n",
        "  print(x)\n"
      ],
      "metadata": {
        "colab": {
          "base_uri": "https://localhost:8080/"
        },
        "id": "lqerrI3UH5T4",
        "outputId": "25873e02-2bb6-48b6-93d8-2a556cf2addb"
      },
      "execution_count": null,
      "outputs": [
        {
          "output_type": "stream",
          "name": "stdout",
          "text": [
            "1\n",
            "2\n",
            "3\n",
            "4\n",
            "5\n",
            "6\n",
            "7\n",
            "8\n",
            "9\n",
            "10\n"
          ]
        }
      ]
    },
    {
      "cell_type": "code",
      "source": [
        "num=int(input(\"Enter a number: \"))\n",
        "\n",
        "for x in range(1,11):\n",
        "  print(num,\" x \", x, \"=\", x*num)\n"
      ],
      "metadata": {
        "colab": {
          "base_uri": "https://localhost:8080/"
        },
        "id": "BGIpTGR1ITBa",
        "outputId": "0d7ce19e-8679-42e8-b892-9c2bb938dcc0"
      },
      "execution_count": null,
      "outputs": [
        {
          "output_type": "stream",
          "name": "stdout",
          "text": [
            "Enter a number: 5\n",
            "5  x  1 = 5\n",
            "5  x  2 = 10\n",
            "5  x  3 = 15\n",
            "5  x  4 = 20\n",
            "5  x  5 = 25\n",
            "5  x  6 = 30\n",
            "5  x  7 = 35\n",
            "5  x  8 = 40\n",
            "5  x  9 = 45\n",
            "5  x  10 = 50\n"
          ]
        }
      ]
    },
    {
      "cell_type": "code",
      "source": [
        "num=int(input(\"Enter any number: \"))\n",
        "sum=0\n",
        "\n",
        "for x in range(1,num+1):\n",
        "  sum=sum+x\n",
        "\n",
        "print(\"Total sum from 1 to \" ,num,\" is: \", sum)"
      ],
      "metadata": {
        "colab": {
          "base_uri": "https://localhost:8080/"
        },
        "id": "ebPckvWQI_-S",
        "outputId": "86f88c65-0d44-440b-8911-2c8a8233e070"
      },
      "execution_count": null,
      "outputs": [
        {
          "output_type": "stream",
          "name": "stdout",
          "text": [
            "Enter any number: 10\n",
            "Total sum from 1 to  10  is:  55\n"
          ]
        }
      ]
    },
    {
      "cell_type": "markdown",
      "source": [
        "Write a function `greet(name)` that prints 'Hello, !'.\n",
        "● Write a function `is_prime(n)` that returns True if the number is prime, otherwise False"
      ],
      "metadata": {
        "id": "2lru8Ee9J5Bo"
      }
    },
    {
      "cell_type": "code",
      "source": [
        "def greet(name):\n",
        "  print(f\"Hello,{name}!.\")\n",
        "\n",
        "greet(\"Kashaf\")"
      ],
      "metadata": {
        "colab": {
          "base_uri": "https://localhost:8080/"
        },
        "id": "cJ9FwRnFJ8tj",
        "outputId": "579e1675-f93f-4b0f-d524-26b41993d15c"
      },
      "execution_count": null,
      "outputs": [
        {
          "output_type": "stream",
          "name": "stdout",
          "text": [
            "Hello,Kashaf!.\n"
          ]
        }
      ]
    },
    {
      "cell_type": "code",
      "source": [
        "def is_prime(n):\n",
        "  for i in range(2,n):\n",
        "    if(n%i==0):\n",
        "      return False\n",
        "\n",
        "  return True\n",
        "\n",
        "print(is_prime(15)) #false\n",
        "print(is_prime(7)) #true"
      ],
      "metadata": {
        "colab": {
          "base_uri": "https://localhost:8080/"
        },
        "id": "99AZ5mlrKUBa",
        "outputId": "e16ecdbb-737c-42c0-f577-642a10de4a70"
      },
      "execution_count": null,
      "outputs": [
        {
          "output_type": "stream",
          "name": "stdout",
          "text": [
            "False\n",
            "True\n"
          ]
        }
      ]
    },
    {
      "cell_type": "markdown",
      "source": [
        "Create a list of 5 fruits and print the second and last fruit.\n",
        "● Add a new fruit to the list, then remove the first fruit from the list.\n",
        "● Find the maximum and minimum number in a list of integers."
      ],
      "metadata": {
        "id": "kiB_nPoKLjzX"
      }
    },
    {
      "cell_type": "code",
      "source": [
        "fruits=[\"apple\",\"mango\",\"watermelon\",\"peach\",\"banana\"]\n",
        "print(fruits[1])\n",
        "print(fruits[4])\n",
        "\n",
        "fruits.append(\"grapes\")\n",
        "print(fruits) #after appending grapes list will become  ['apple', 'mango', 'watermelon', 'peach', 'banana', 'grapes']\n",
        "\n",
        "fruits.remove(fruits[0])\n",
        "print(fruits) #after removing first fruit list will become ['mango', 'watermelon', 'peach', 'banana', 'grapes']"
      ],
      "metadata": {
        "colab": {
          "base_uri": "https://localhost:8080/"
        },
        "id": "CGu5M7gULl6B",
        "outputId": "eefa7293-c833-46f7-f50f-36b64e5d2c41"
      },
      "execution_count": null,
      "outputs": [
        {
          "output_type": "stream",
          "name": "stdout",
          "text": [
            "mango\n",
            "banana\n",
            "['apple', 'mango', 'watermelon', 'peach', 'banana', 'grapes']\n",
            "['mango', 'watermelon', 'peach', 'banana', 'grapes']\n"
          ]
        }
      ]
    },
    {
      "cell_type": "code",
      "source": [
        "integers=[8,5,10,89,90,52,15]\n",
        "\n",
        "print(\"Maximum number from the list is : \", max(integers))\n",
        "print(\"Minimum number from the list is : \", min(integers))"
      ],
      "metadata": {
        "colab": {
          "base_uri": "https://localhost:8080/"
        },
        "id": "DxVleJbnMIdN",
        "outputId": "57c616ac-0a1b-44b1-9cac-e43be1117981"
      },
      "execution_count": null,
      "outputs": [
        {
          "output_type": "stream",
          "name": "stdout",
          "text": [
            "Maximum number from the list is :  90\n",
            "Minimum number from the list is :  5\n"
          ]
        }
      ]
    },
    {
      "cell_type": "markdown",
      "source": [
        "Create a dictionary with keys: 'name', 'age', 'city' and store your details. Print the dictionary.\n",
        "● Add a new key 'country' to the dictionary.\n",
        "● Write a program to count the frequency of each character in a string and store the result in a\n",
        "dictionary"
      ],
      "metadata": {
        "id": "JOqPAycFMl6I"
      }
    },
    {
      "cell_type": "code",
      "source": [],
      "metadata": {
        "id": "Qcdu0gI8Mokz"
      },
      "execution_count": null,
      "outputs": []
    },
    {
      "cell_type": "code",
      "source": [
        "bio={\n",
        "    \"name\":\"Kashaf\",\n",
        "    \"age\":19,\n",
        "    \"city\":\"Karachi\"\n",
        "}\n",
        "\n",
        "for(key,value) in bio.items():\n",
        "  print(key, \": \",value)\n",
        "\n",
        "\n",
        "bio[\"country\"]=\"Pakistan\"\n",
        "print(\"\\n\")\n",
        "print (\"After adding another key: \")\n",
        "for(key,value) in bio.items():\n",
        "  print(key, \": \",value)\n",
        "\n",
        "\n",
        "str=\"Apple\"\n",
        "\n",
        "freq={}\n",
        "\n",
        "for char in str:\n",
        "  if char in freq:\n",
        "    freq[char]+=1\n",
        "  else:\n",
        "    freq[char]=1\n",
        "\n",
        "print(\"\\nString: \",str)\n",
        "for(key,value) in freq.items():\n",
        "  print(key,\":\",value)"
      ],
      "metadata": {
        "colab": {
          "base_uri": "https://localhost:8080/"
        },
        "id": "DJRTmp4FMrpQ",
        "outputId": "f2f145f8-90a2-48e3-f043-1f9e00ccf409"
      },
      "execution_count": null,
      "outputs": [
        {
          "output_type": "stream",
          "name": "stdout",
          "text": [
            "name :  Kashaf\n",
            "age :  19\n",
            "city :  Karachi\n",
            "\n",
            "\n",
            "After adding another key: \n",
            "name :  Kashaf\n",
            "age :  19\n",
            "city :  Karachi\n",
            "country :  Pakistan\n",
            "\n",
            "String:  Apple\n",
            "A : 1\n",
            "p : 2\n",
            "l : 1\n",
            "e : 1\n"
          ]
        }
      ]
    },
    {
      "cell_type": "markdown",
      "source": [
        "Create two sets of numbers and: - Find their union - Find their intersection - Find the difference\n",
        "between them\n",
        "● Write a program to remove duplicates from a list using a set."
      ],
      "metadata": {
        "id": "8N15EyrxQfaQ"
      }
    },
    {
      "cell_type": "code",
      "source": [
        "set1={1,2,3}\n",
        "set2={4,5,6}\n",
        "\n",
        "print(set1.union(set2))\n",
        "print(set1.intersection(set2)) #since nothing is common is both sets so empty set will be returned\n",
        "print(set1.difference(set2))\n",
        "\n",
        "\n",
        "list=[1,4,5,6,6,1]\n",
        "print(\"\\n\")\n",
        "print(list)\n",
        "print(set(list)) #duplicates removed"
      ],
      "metadata": {
        "colab": {
          "base_uri": "https://localhost:8080/"
        },
        "id": "qqknACxOQgCW",
        "outputId": "6f6ce871-6a4f-446a-9932-dd4e1cf22003"
      },
      "execution_count": null,
      "outputs": [
        {
          "output_type": "stream",
          "name": "stdout",
          "text": [
            "{1, 2, 3, 4, 5, 6}\n",
            "set()\n",
            "{1, 2, 3}\n",
            "\n",
            "\n",
            "[1, 4, 5, 6, 6, 1]\n",
            "{1, 4, 5, 6}\n"
          ]
        }
      ]
    },
    {
      "cell_type": "markdown",
      "source": [
        "Create a tuple with at least 5 numbers and print the first and last elements.\n",
        "● Write a program to check if a given element exists in a tuple."
      ],
      "metadata": {
        "id": "1AaRHjh7RW9C"
      }
    },
    {
      "cell_type": "code",
      "source": [
        "num=(1,2,3,4,5)\n",
        "print(type(num)) #type is tuple\n",
        "print(num[0])\n",
        "print(num[4])\n",
        "\n",
        "print(\"\\n\")\n",
        "\n",
        "inp=int(input(\"Enter number to check: \"))\n",
        "if(inp in num):\n",
        "  print(\"Number is present in the tuple\")\n",
        "else:\n",
        "  print(\"Number is not present in the tuple\")"
      ],
      "metadata": {
        "colab": {
          "base_uri": "https://localhost:8080/"
        },
        "id": "gaTutfQNRahp",
        "outputId": "4e8a9e01-84b1-4898-8f75-afb78321df30"
      },
      "execution_count": null,
      "outputs": [
        {
          "output_type": "stream",
          "name": "stdout",
          "text": [
            "<class 'tuple'>\n",
            "1\n",
            "5\n",
            "\n",
            "\n",
            "Enter number to check: 5\n",
            "Number is present in the tuple\n"
          ]
        }
      ]
    },
    {
      "cell_type": "markdown",
      "source": [
        "Write a program to divide two numbers, but handle the ZeroDivisionError.\n",
        "● Write a program that asks for a number from the user, and handles the case when the user\n",
        "enters something that is not a number (ValueError)"
      ],
      "metadata": {
        "id": "7a8ZnvhFR8QR"
      }
    },
    {
      "cell_type": "code",
      "source": [
        "\n",
        "num1=int(input(\"Enter first number: \"))\n",
        "num2=int(input(\"Enter second number: \"))\n",
        "\n",
        "try:\n",
        "  print(num1/num2)\n",
        "except ZeroDivisionError:\n",
        "  print(\"Division by zero is not possible\")\n",
        "\n",
        "\n",
        "try:\n",
        "    num = int(input(\"Enter a number: \"))\n",
        "    print(\"You entered:\", num)\n",
        "except ValueError:\n",
        "    print(\"Oops! That is not a valid number. Please enter digits only.\")\n"
      ],
      "metadata": {
        "colab": {
          "base_uri": "https://localhost:8080/"
        },
        "id": "Dedu7M-ER9Pv",
        "outputId": "5c0632ba-e195-4724-bab5-362c10749e32"
      },
      "execution_count": null,
      "outputs": [
        {
          "output_type": "stream",
          "name": "stdout",
          "text": [
            "Enter first number: 4\n",
            "Enter second number: 9\n",
            "0.4444444444444444\n",
            "Enter a number: a\n",
            "Oops! That is not a valid number. Please enter digits only.\n"
          ]
        }
      ]
    },
    {
      "cell_type": "code",
      "source": [],
      "metadata": {
        "id": "b83i6hqjSM9u"
      },
      "execution_count": null,
      "outputs": []
    },
    {
      "cell_type": "code",
      "source": [
        "!git clone https://github.com/Kashaf-Zia06/Python-AI-Bootcamp.git"
      ],
      "metadata": {
        "colab": {
          "base_uri": "https://localhost:8080/"
        },
        "id": "A9dDmMDsEVpu",
        "outputId": "28fb248e-3547-4e6d-84e5-7e6b4e72264b"
      },
      "execution_count": 1,
      "outputs": [
        {
          "output_type": "stream",
          "name": "stdout",
          "text": [
            "Cloning into 'Python-AI-Bootcamp'...\n",
            "warning: You appear to have cloned an empty repository.\n"
          ]
        }
      ]
    },
    {
      "cell_type": "code",
      "source": [
        "%cd Python-AI-Bootcamp"
      ],
      "metadata": {
        "colab": {
          "base_uri": "https://localhost:8080/"
        },
        "id": "N7Y5NBbrEb7M",
        "outputId": "f143da30-4c61-4073-e715-9508f8e55919"
      },
      "execution_count": 2,
      "outputs": [
        {
          "output_type": "stream",
          "name": "stdout",
          "text": [
            "/content/Python-AI-Bootcamp\n"
          ]
        }
      ]
    },
    {
      "cell_type": "code",
      "source": [
        "!git config --global user.email \"kashafzia100@gmail.com\""
      ],
      "metadata": {
        "id": "dzfi3qmFEwzJ"
      },
      "execution_count": 3,
      "outputs": []
    },
    {
      "cell_type": "code",
      "source": [
        "!git config --global user.name \"Kashaf-Zia06\""
      ],
      "metadata": {
        "id": "IAys7K51E2JX"
      },
      "execution_count": 4,
      "outputs": []
    }
  ]
}