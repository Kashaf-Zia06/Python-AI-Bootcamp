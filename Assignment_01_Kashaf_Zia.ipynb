{
 "cells": [
  {
   "cell_type": "markdown",
   "metadata": {},
   "source": [
    "# Python Basics Practice Notebook"
   ]
  },
  {
   "cell_type": "code",
   "execution_count": null,
   "metadata": {},
   "outputs": [],
   "source": [
    "# Printing Hello World\n",
    "print(\"Hello World\")"
   ]
  },
  {
   "cell_type": "code",
   "execution_count": null,
   "metadata": {},
   "outputs": [],
   "source": [
    "# Simple calculator\n",
    "a = 10\n",
    "b = 20\n",
    "print(\"Sum:\", a+b)\n",
    "print(\"Difference:\", a-b)\n",
    "print(\"Product:\", a*b)\n",
    "print(\"Quotient:\", a/b)"
   ]
  },
  {
   "cell_type": "code",
   "execution_count": null,
   "metadata": {},
   "outputs": [],
   "source": [
    "# Check voting eligibility\n",
    "age = int(input(\"Enter your age: \\n\"))\n",
    "if age >= 18:\n",
    "    print(\"You are eligible to vote\")\n",
    "else:\n",
    "    print(\"You are not eligible to vote\")"
   ]
  },
  {
   "cell_type": "code",
   "execution_count": null,
   "metadata": {},
   "outputs": [],
   "source": [
    "# Positive / Negative / Zero check\n",
    "num = int(input(\"Enter any number: \\n\"))\n",
    "if num == 0:\n",
    "    print(\"Number is zero\")\n",
    "elif num > 0:\n",
    "    print(\"Number is positive\")\n",
    "else:\n",
    "    print(\"Number is negative\")"
   ]
  },
  {
   "cell_type": "code",
   "execution_count": null,
   "metadata": {},
   "outputs": [],
   "source": [
    "# Sum of numbers from 1 to n\n",
    "num = int(input(\"Enter any number: \\n\"))\n",
    "total = 0\n",
    "for x in range(1, num+1):\n",
    "    total += x\n",
    "print(\"Total sum from 1 to\", num, \"is:\", total)"
   ]
  },
  {
   "cell_type": "code",
   "execution_count": null,
   "metadata": {},
   "outputs": [],
   "source": [
    "# List and Set example\n",
    "numbers = [1,4,5,6,6,1]\n",
    "print(\"List:\", numbers)\n",
    "print(\"Set (unique elements):\", set(numbers))"
   ]
  }
 ],
 "metadata": {
  "kernelspec": {
   "display_name": "Python 3",
   "language": "python",
   "name": "python3"
  },
  "language_info": {
   "name": "python",
   "version": "3.10"
  }
 },
 "nbformat": 4,
 "nbformat_minor": 2
}
